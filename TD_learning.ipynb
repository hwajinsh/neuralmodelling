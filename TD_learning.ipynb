{
 "cells": [
  {
   "cell_type": "markdown",
   "metadata": {},
   "source": [
    "# TD LEARNING"
   ]
  },
  {
   "cell_type": "code",
   "execution_count": 14,
   "metadata": {},
   "outputs": [],
   "source": [
    "import numpy as np\n",
    "import matplotlib.pyplot as plt\n",
    "from scipy.ndimage import gaussian_filter1d\n",
    "from mpl_toolkits.mplot3d import Axes3D\n",
    "from tqdm import tqdm"
   ]
  },
  {
   "cell_type": "code",
   "execution_count": null,
   "metadata": {},
   "outputs": [],
   "source": [
    "def td_leaning(alpha, stimuli, rewards, n_trials):\n",
    "        \"\"\"\n",
    "    Temporal Difference learning \n",
    "\n",
    "    Args:\n",
    "        alpha (float): Learning rate (0 <= alpha <= 1).\n",
    "        stimuli (list): A list of positions (state coordinates) visited during the trajectory.\n",
    "        rewards (float): Discount factor (0 <= gamma < 1).\n",
    "        n_trials (): Number of trials\n",
    "    \n",
    "    Returns:\n",
    "        numpy array: Updated successor representation.\n",
    "    \"\"\"\n",
    "        \n",
    "    V = np.zeros(len(stimuli))  # Initialize value array for time points\n",
    "    w = np.zeros(len(stimuli))  # Initialize weight for each time point\n",
    "    delta = np.zeros([n_trials, len(stimuli)])  # Initialize 2D array for trial x time\n",
    "    delta_v = np.zeros(len(stimuli))  # Initialize array for delta v\n",
    "\n",
    "    # Temporal difference learning: update predictions for each trial\n",
    "    for n in tqdm(range(n_trials)):\n",
    "        for t in range(1, len(stimuli)):\n",
    "            # Compute the value at time t using weighted sum of previous stimuli\n",
    "            V[t] = np.sum(w[:t] * stimuli[t-1::-1])  # Value computation (weighted sum of previous stimuli)\n",
    "\n",
    "            # Compute delta_v (prediction difference)\n",
    "            delta_v[t-1] = V[t] - V[t-1]\n",
    "\n",
    "            # Compute delta (TD error) for each time step\n",
    "            delta[n, t] = rewards[t] + delta_v[t]\n",
    "\n",
    "            # Update weights using the learning rule\n",
    "            for tau in range(t):\n",
    "                w[tau] += learning_rate * delta[n, t] * stimuli[t - tau]\n",
    "\n",
    "    return w, V, delta_v, delta"
   ]
  },
  {
   "cell_type": "code",
   "execution_count": 16,
   "metadata": {},
   "outputs": [
    {
     "name": "stderr",
     "output_type": "stream",
     "text": [
      "C:\\Users\\34600\\AppData\\Local\\Temp\\ipykernel_17448\\2896266399.py:23: RuntimeWarning: divide by zero encountered in scalar divide\n",
      "  r *= 2 / np.sum(r)\n",
      "C:\\Users\\34600\\AppData\\Local\\Temp\\ipykernel_17448\\2896266399.py:23: RuntimeWarning: invalid value encountered in multiply\n",
      "  r *= 2 / np.sum(r)\n"
     ]
    }
   ],
   "source": [
    "# Define parameters for the TD model\n",
    "num_trials = np.arange(100)\n",
    "time_steps = np.arange(300)\n",
    "reward_time = 200\n",
    "stimulus_time = 100\n",
    "learning_rate = 0.1\n",
    "\n",
    "v_before = np.zeros(len(time_steps)) # value array\n",
    "delta_v_before = np.zeros(len(time_steps)) # prediction error array\n",
    "\n",
    "# set stimulus to 1 at time step 100\n",
    "u = np.zeros((len(time_steps), 1)) # stimuli array\n",
    "u[100] = 1\n",
    "\n",
    "# set reward at time step 200\n",
    "r = np.zeros((len(time_steps), 1)) # reward array\n",
    "\n",
    "# now we fit a gaussian curve to the reward\n",
    "sigma = 5  # Standard deviation for Gaussian\n",
    "r = gaussian_filter1d(r, sigma)\n",
    "\n",
    "# Normalize to sum to 2\n",
    "r *= 2 / np.sum(r)"
   ]
  },
  {
   "cell_type": "code",
   "execution_count": 17,
   "metadata": {},
   "outputs": [
    {
     "ename": "TypeError",
     "evalue": "only integer scalar arrays can be converted to a scalar index",
     "output_type": "error",
     "traceback": [
      "\u001b[1;31m---------------------------------------------------------------------------\u001b[0m",
      "\u001b[1;31mTypeError\u001b[0m                                 Traceback (most recent call last)",
      "Cell \u001b[1;32mIn[17], line 2\u001b[0m\n\u001b[0;32m      1\u001b[0m \u001b[38;5;66;03m# call the temporal difference learning function\u001b[39;00m\n\u001b[1;32m----> 2\u001b[0m W_after, V_after, delta_v_after, delta_weight_after \u001b[38;5;241m=\u001b[39m \u001b[43mtd_leaning\u001b[49m\u001b[43m(\u001b[49m\u001b[43mlearning_rate\u001b[49m\u001b[43m,\u001b[49m\u001b[43m \u001b[49m\u001b[43mu\u001b[49m\u001b[43m,\u001b[49m\u001b[43m \u001b[49m\u001b[43mr\u001b[49m\u001b[43m,\u001b[49m\u001b[43m \u001b[49m\u001b[43mnum_trials\u001b[49m\u001b[43m)\u001b[49m\n",
      "Cell \u001b[1;32mIn[15], line 4\u001b[0m, in \u001b[0;36mtd_leaning\u001b[1;34m(learning_rate, stimuli, rewards, n_trials)\u001b[0m\n\u001b[0;32m      2\u001b[0m V \u001b[38;5;241m=\u001b[39m np\u001b[38;5;241m.\u001b[39mzeros(\u001b[38;5;28mlen\u001b[39m(stimuli))  \u001b[38;5;66;03m# Initialize value array for time points\u001b[39;00m\n\u001b[0;32m      3\u001b[0m w \u001b[38;5;241m=\u001b[39m np\u001b[38;5;241m.\u001b[39mzeros(\u001b[38;5;28mlen\u001b[39m(stimuli))  \u001b[38;5;66;03m# Initialize weight for each time point\u001b[39;00m\n\u001b[1;32m----> 4\u001b[0m delta \u001b[38;5;241m=\u001b[39m \u001b[43mnp\u001b[49m\u001b[38;5;241;43m.\u001b[39;49m\u001b[43mzeros\u001b[49m\u001b[43m(\u001b[49m\u001b[43m[\u001b[49m\u001b[43mn_trials\u001b[49m\u001b[43m,\u001b[49m\u001b[43m \u001b[49m\u001b[38;5;28;43mlen\u001b[39;49m\u001b[43m(\u001b[49m\u001b[43mstimuli\u001b[49m\u001b[43m)\u001b[49m\u001b[43m]\u001b[49m\u001b[43m)\u001b[49m  \u001b[38;5;66;03m# Initialize 2D array for trial x time\u001b[39;00m\n\u001b[0;32m      5\u001b[0m delta_v \u001b[38;5;241m=\u001b[39m np\u001b[38;5;241m.\u001b[39mzeros(\u001b[38;5;28mlen\u001b[39m(stimuli))  \u001b[38;5;66;03m# Initialize array for delta v\u001b[39;00m\n\u001b[0;32m      7\u001b[0m \u001b[38;5;66;03m# Temporal difference learning: update predictions for each trial\u001b[39;00m\n",
      "\u001b[1;31mTypeError\u001b[0m: only integer scalar arrays can be converted to a scalar index"
     ]
    }
   ],
   "source": [
    "# call the temporal difference learning function\n",
    "W_after, V_after, delta_v_after, delta_weight_after = td_leaning(learning_rate, u, r, num_trials)"
   ]
  },
  {
   "cell_type": "code",
   "execution_count": null,
   "metadata": {},
   "outputs": [],
   "source": []
  }
 ],
 "metadata": {
  "kernelspec": {
   "display_name": "Python 3",
   "language": "python",
   "name": "python3"
  },
  "language_info": {
   "codemirror_mode": {
    "name": "ipython",
    "version": 3
   },
   "file_extension": ".py",
   "mimetype": "text/x-python",
   "name": "python",
   "nbconvert_exporter": "python",
   "pygments_lexer": "ipython3",
   "version": "3.10.11"
  }
 },
 "nbformat": 4,
 "nbformat_minor": 2
}
